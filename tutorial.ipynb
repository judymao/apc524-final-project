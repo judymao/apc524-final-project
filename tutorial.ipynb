{
 "cells": [
  {
   "cell_type": "markdown",
   "id": "0b153af9",
   "metadata": {},
   "source": [
    "### Import Momentum strategy and Backtest class"
   ]
  },
  {
   "cell_type": "code",
   "execution_count": null,
   "id": "5ed99edc",
   "metadata": {},
   "outputs": [],
   "source": [
    "from src.tradestrat import Momentum, Backtest"
   ]
  },
  {
   "cell_type": "markdown",
   "id": "f1b8c592",
   "metadata": {},
   "source": [
    "### Create a list of stocks that we'd like to include in our portfolio"
   ]
  },
  {
   "cell_type": "code",
   "execution_count": null,
   "id": "f22555fc",
   "metadata": {},
   "outputs": [],
   "source": [
    "stocks = [\"A\", \"AAPL\", \"ABC\", \"ABMD\", \"ABT\", \"ADBE\", \"ADI\", \"ADM\", \"ADP\", \"ADSK\", \"AEE\", \"AEP\"]"
   ]
  },
  {
   "cell_type": "markdown",
   "id": "ed5376f2",
   "metadata": {},
   "source": [
    "### Initialize Momentum strategy class"
   ]
  },
  {
   "cell_type": "code",
   "execution_count": null,
   "id": "78d43286",
   "metadata": {},
   "outputs": [],
   "source": [
    "momentum = Momentum(stocks)"
   ]
  },
  {
   "cell_type": "markdown",
   "id": "1c64fccd",
   "metadata": {},
   "source": [
    "### Get weights from Momentum strategy"
   ]
  },
  {
   "cell_type": "code",
   "execution_count": null,
   "id": "5087c66c",
   "metadata": {},
   "outputs": [],
   "source": [
    "weights = momentum.get_weights()"
   ]
  },
  {
   "cell_type": "code",
   "execution_count": null,
   "id": "1c83e520",
   "metadata": {},
   "outputs": [],
   "source": [
    "weights"
   ]
  },
  {
   "cell_type": "markdown",
   "id": "1213a123",
   "metadata": {},
   "source": [
    "### Initialize Backtest class"
   ]
  },
  {
   "cell_type": "code",
   "execution_count": null,
   "id": "88378cf5",
   "metadata": {},
   "outputs": [],
   "source": [
    "backtest = Backtest(momentum)"
   ]
  },
  {
   "cell_type": "markdown",
   "id": "70f5adcd",
   "metadata": {},
   "source": [
    "### Get daily returns -- can get cumulative or non-cumulative returns"
   ]
  },
  {
   "cell_type": "code",
   "execution_count": null,
   "id": "cb04e415",
   "metadata": {},
   "outputs": [],
   "source": [
    "backtest.get_return(cumulative=True)"
   ]
  },
  {
   "cell_type": "code",
   "execution_count": null,
   "id": "659742e5",
   "metadata": {},
   "outputs": [],
   "source": [
    "backtest.get_return(cumulative=False)"
   ]
  },
  {
   "cell_type": "markdown",
   "id": "47a2750f",
   "metadata": {},
   "source": [
    "### Get annualized returns, volatilities, and downside volatilities"
   ]
  },
  {
   "cell_type": "code",
   "execution_count": null,
   "id": "22612155",
   "metadata": {},
   "outputs": [],
   "source": [
    "backtest.get_annualized_return()"
   ]
  },
  {
   "cell_type": "code",
   "execution_count": null,
   "id": "bc4a4fec",
   "metadata": {},
   "outputs": [],
   "source": [
    "backtest.get_annualized_vol()"
   ]
  },
  {
   "cell_type": "code",
   "execution_count": null,
   "id": "b2d64571",
   "metadata": {},
   "outputs": [],
   "source": [
    "backtest.get_annualized_downside_vol()"
   ]
  },
  {
   "cell_type": "markdown",
   "id": "330fa81e",
   "metadata": {},
   "source": [
    "### Get Sharpe and Sortino ratios"
   ]
  },
  {
   "cell_type": "code",
   "execution_count": null,
   "id": "5b163f13",
   "metadata": {},
   "outputs": [],
   "source": [
    "backtest.get_sharpe(rf_rate = 0.02)"
   ]
  },
  {
   "cell_type": "code",
   "execution_count": null,
   "id": "b4e86bb1",
   "metadata": {},
   "outputs": [],
   "source": [
    "backtest.get_rolling_sharpe(rf_rate = 0.02, lookback = 10)"
   ]
  },
  {
   "cell_type": "code",
   "execution_count": null,
   "id": "23fd9f04",
   "metadata": {},
   "outputs": [],
   "source": [
    "backtest.get_sortino(rf_rate = 0.02)"
   ]
  },
  {
   "cell_type": "code",
   "execution_count": null,
   "id": "0fa9b1a7",
   "metadata": {},
   "outputs": [],
   "source": [
    "backtest.get_rolling_sortino(rf_rate = 0.02, lookback = 10)"
   ]
  },
  {
   "cell_type": "markdown",
   "id": "450a4065",
   "metadata": {},
   "source": [
    "### Get maximum drawdown"
   ]
  },
  {
   "cell_type": "code",
   "execution_count": null,
   "id": "661d14b4",
   "metadata": {},
   "outputs": [],
   "source": [
    "backtest.get_max_drawdown()"
   ]
  },
  {
   "cell_type": "markdown",
   "id": "895a8db6",
   "metadata": {},
   "source": [
    "### Get maximum consecutive positives/negatives"
   ]
  },
  {
   "cell_type": "code",
   "execution_count": null,
   "id": "ecd82f8a",
   "metadata": {},
   "outputs": [],
   "source": [
    "backtest.get_max_consecutive_positive()"
   ]
  },
  {
   "cell_type": "code",
   "execution_count": null,
   "id": "8a4652ff",
   "metadata": {},
   "outputs": [],
   "source": [
    "backtest.get_max_consecutive_negative()"
   ]
  },
  {
   "cell_type": "markdown",
   "id": "aa25dde3",
   "metadata": {},
   "source": [
    "### Get underwater times"
   ]
  },
  {
   "cell_type": "code",
   "execution_count": null,
   "id": "a1f576f5",
   "metadata": {},
   "outputs": [],
   "source": [
    "backtest.get_max_underwater_time(threshold_days = 20)"
   ]
  },
  {
   "cell_type": "code",
   "execution_count": null,
   "id": "7234be51",
   "metadata": {},
   "outputs": [],
   "source": [
    "backtest.get_avg_underwater_time(threshold_days = 20)"
   ]
  },
  {
   "cell_type": "markdown",
   "id": "b2cb5fc4",
   "metadata": {},
   "source": [
    "### Make plots"
   ]
  },
  {
   "cell_type": "code",
   "execution_count": null,
   "id": "cde14bcb",
   "metadata": {},
   "outputs": [],
   "source": [
    "backtest.plot_returns()"
   ]
  },
  {
   "cell_type": "code",
   "execution_count": null,
   "id": "6dcc6525",
   "metadata": {},
   "outputs": [],
   "source": [
    "backtest.plot_sharpe(rf_rate = 0.02, lookback = 10)"
   ]
  },
  {
   "cell_type": "code",
   "execution_count": null,
   "id": "a90bf76e",
   "metadata": {},
   "outputs": [],
   "source": [
    "backtest.plot_sortino(rf_rate = 0.02, lookback = 10)"
   ]
  }
 ],
 "metadata": {
  "kernelspec": {
   "display_name": "Python 3 (ipykernel)",
   "language": "python",
   "name": "python3"
  },
  "language_info": {
   "codemirror_mode": {
    "name": "ipython",
    "version": 3
   },
   "file_extension": ".py",
   "mimetype": "text/x-python",
   "name": "python",
   "nbconvert_exporter": "python",
   "pygments_lexer": "ipython3",
   "version": "3.10.6"
  }
 },
 "nbformat": 4,
 "nbformat_minor": 5
}
